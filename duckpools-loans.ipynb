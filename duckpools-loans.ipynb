res = requests.get("https://api.ergoplatform.com/api/v1/info")

current_height = res.json()["height"]

res = requests.get("https://api.ergoplatform.com/api/v1/boxes/unspent/byTokenId/9916d75132593c8b07fe18bd8d583bda1652eed7565cf41a4738ddd90fc992ec")

pool_erg = res.json()["items"][0]["value"]
pool_sigusd = res.json()["items"][0]["assets"][2]["amount"]

pool_ratio = pool_erg/pool_sigusd

res = requests.get("https://api.ergoplatform.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?limit=100")

max_loan_size = 0

loans = []
for loan in res.json()["items"]:
    if loan["assets"][0]["amount"]/100>max_loan_size:
        max_loan_size = loan["assets"][0]["amount"]/100
    if loan["assets"][0]["amount"]/100>10:
        loans.append( {
            "collateral_ratio": loan["value"]/(loan["assets"][0]["amount"]*pool_ratio)*100,
            "loan_size": loan["assets"][0]["amount"]/100,
            "expiry": (eval(loan["additionalRegisters"]["R9"]["renderedValue"])[0]-current_height)*2
        })
x = []
y = []
s = []

for loan in loans:
    x.append(loan["expiry"])
    y.append(loan["collateral_ratio"])
    s.append(loan["loan_size"]/(max_loan_size/2)*50)

c = np.random.randint(1,5,size=len(loans))
cmap = plt.cm.RdYlGn
norm = plt.Normalize(1,4)
fig,ax = plt.subplots()
sc = plt.scatter(x,y,s=s, cmap=cmap, c=c, norm=norm)

annot = ax.annotate("", xy=(0,0), xytext=(20,20),textcoords="offset points",
                    bbox=dict(boxstyle="round", fc="w"),
                    arrowprops=dict(arrowstyle="->"))
annot.set_visible(False)

def update_annot(ind):
    
    pos = sc.get_offsets()[ind["ind"][0]]
    annot.xy = pos
    loan = loans[ind["ind"][0]]
    text = "c: {}\ns: {}\ne: {}".format(loan["collateral_ratio"],loan["loan_size"],loan["expiry"])
    annot.set_text(text)
    annot.get_bbox_patch().set_facecolor(cmap(norm(c[ind["ind"][0]])))
    annot.get_bbox_patch().set_alpha(0.4)
    

def hover(event):
    print("yay")
    vis = annot.get_visible()
    if event.inaxes == ax:
        cont, ind = sc.contains(event)
        if cont:
            update_annot(ind)
            annot.set_visible(True)
            fig.canvas.draw_idle()
        else:
            if vis:
                annot.set_visible(False)
                fig.canvas.draw_idle()

fig.canvas.mpl_connect("motion_notify_event", hover)
plt.show()
